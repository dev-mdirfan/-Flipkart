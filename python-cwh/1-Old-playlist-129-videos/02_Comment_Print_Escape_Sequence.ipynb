{
  "nbformat": 4,
  "nbformat_minor": 0,
  "metadata": {
    "colab": {
      "provenance": [],
      "authorship_tag": "ABX9TyOE9YPHOF01wE2ruswOTSx1",
      "include_colab_link": true
    },
    "kernelspec": {
      "name": "python3",
      "display_name": "Python 3"
    },
    "language_info": {
      "name": "python"
    }
  },
  "cells": [
    {
      "cell_type": "markdown",
      "metadata": {
        "id": "view-in-github",
        "colab_type": "text"
      },
      "source": [
        "<a href=\"https://colab.research.google.com/github/dev-mdirfan/-Flipkart/blob/master/python-cwh/1-Old-playlist-129-videos/02_Comment_Print_Escape_Sequence.ipynb\" target=\"_parent\"><img src=\"https://colab.research.google.com/assets/colab-badge.svg\" alt=\"Open In Colab\"/></a>"
      ]
    },
    {
      "cell_type": "markdown",
      "source": [
        "# 2. Comment, Print, Escape Sequence\n",
        "\n",
        "## First Python syntax "
      ],
      "metadata": {
        "id": "NonxlJo_P3kC"
      }
    },
    {
      "cell_type": "code",
      "execution_count": null,
      "metadata": {
        "colab": {
          "base_uri": "https://localhost:8080/"
        },
        "id": "_o0oq6wgZRJG",
        "outputId": "36fcc586-6ea7-4902-d630-ff29bae65c47"
      },
      "outputs": [
        {
          "output_type": "stream",
          "name": "stdout",
          "text": [
            "Hello World\n"
          ]
        }
      ],
      "source": [
        "import flask             # Installed using pip command so no error\n",
        "print(\"Hello World\")    # parameter accepts as string\n",
        "# print(Hello World)   # Gives an Error"
      ]
    },
    {
      "cell_type": "code",
      "source": [
        "print(Hello World)          # SyntaxError"
      ],
      "metadata": {
        "colab": {
          "base_uri": "https://localhost:8080/",
          "height": 131
        },
        "id": "llSGSif1P84f",
        "outputId": "78f62ef3-8e43-4c4f-c229-39efb4e5b0d2"
      },
      "execution_count": null,
      "outputs": [
        {
          "output_type": "error",
          "ename": "SyntaxError",
          "evalue": "ignored",
          "traceback": [
            "\u001b[0;36m  File \u001b[0;32m\"<ipython-input-2-8f5e2462f740>\"\u001b[0;36m, line \u001b[0;32m1\u001b[0m\n\u001b[0;31m    print(Hello World)          # SyntaxError\u001b[0m\n\u001b[0m                ^\u001b[0m\n\u001b[0;31mSyntaxError\u001b[0m\u001b[0;31m:\u001b[0m invalid syntax\n"
          ]
        }
      ]
    },
    {
      "cell_type": "markdown",
      "source": [
        "## Comments\n",
        "\n",
        "Statement that ignores python interpreter\n",
        "- Single line comment start from #\n",
        "- Multi line comment written in 3 double inverted comma \"\"\" \"\"\""
      ],
      "metadata": {
        "id": "SyOmUZBIQAGx"
      }
    },
    {
      "cell_type": "code",
      "source": [
        "# This is single line comment\n",
        "\"\"\"\n",
        "This is example of\n",
        "multi line comment\n",
        "\"\"\"\n",
        "print(\"Welcome\")"
      ],
      "metadata": {
        "colab": {
          "base_uri": "https://localhost:8080/"
        },
        "id": "gJk60STSQDUh",
        "outputId": "7f852427-5ccd-476b-8261-fd40836010c7"
      },
      "execution_count": null,
      "outputs": [
        {
          "output_type": "stream",
          "name": "stdout",
          "text": [
            "Welcome\n"
          ]
        }
      ]
    },
    {
      "cell_type": "code",
      "source": [
        "print(\"Hello World\")     # comment after statement"
      ],
      "metadata": {
        "colab": {
          "base_uri": "https://localhost:8080/"
        },
        "id": "uoOVfM0xQJOF",
        "outputId": "ded1e8a4-2b98-4b36-bdd6-1e7d3e61e96d"
      },
      "execution_count": null,
      "outputs": [
        {
          "output_type": "stream",
          "name": "stdout",
          "text": [
            "Hello World\n"
          ]
        }
      ]
    },
    {
      "cell_type": "code",
      "source": [
        "# Every \"print\" statement start from new line\n",
        "print(\"Hi\")\n",
        "print(\"I'm Irfan\")"
      ],
      "metadata": {
        "colab": {
          "base_uri": "https://localhost:8080/"
        },
        "id": "l5Glx36sQMK3",
        "outputId": "79076eb2-d1f4-452b-a5ca-33f1cb8e2e3f"
      },
      "execution_count": null,
      "outputs": [
        {
          "output_type": "stream",
          "name": "stdout",
          "text": [
            "Hi\n",
            "I'm Irfan\n"
          ]
        }
      ]
    },
    {
      "cell_type": "code",
      "source": [
        "# For writing statement in one line\n",
        "print(\"How are you?\",end =\"\")      # Blank for no space\n",
        "print(\"I am fine\", end=',')\n",
        "print(\"and you?\", end='joker')     # you can write anything\n",
        "print(\"???\", end=' ')     # or even space\n",
        "print(\"I also good\")"
      ],
      "metadata": {
        "colab": {
          "base_uri": "https://localhost:8080/"
        },
        "id": "EYVtOHx1QPPM",
        "outputId": "416d169c-a2d2-48b8-e8c5-9fa989624fc3"
      },
      "execution_count": null,
      "outputs": [
        {
          "output_type": "stream",
          "name": "stdout",
          "text": [
            "How are you?I am fine,and you?joker??? I also good\n"
          ]
        }
      ]
    },
    {
      "cell_type": "code",
      "source": [
        "# Two string in print() separated with comma(,) shows as one space separated statement\n",
        "print(\"Subscribe Now\",\"and brother do like also\")"
      ],
      "metadata": {
        "colab": {
          "base_uri": "https://localhost:8080/"
        },
        "id": "kC7mGK2NQUXp",
        "outputId": "ec74ddb6-a976-4af3-ed30-39cbc90199d1"
      },
      "execution_count": null,
      "outputs": [
        {
          "output_type": "stream",
          "name": "stdout",
          "text": [
            "Subscribe Now and brother do like also\n"
          ]
        }
      ]
    },
    {
      "cell_type": "markdown",
      "source": [
        "# Escape Sequences :\n",
        "\n",
        "- `\\\\`   -->   To print Backslash \\\n",
        "- `\\\"`   -->   Double Quote \" \n",
        "- `\\'`   -->   Single Quote '\n",
        "- `\\n`   -->   New Line\n",
        "- `\\t`   -->   Tab\n",
        "- `\\r`   -->   Carriage Return\n",
        "- `\\b`   -->   Backspace\n",
        "- `\\f`   -->   From Feed"
      ],
      "metadata": {
        "id": "DupLM5YBQXiw"
      }
    },
    {
      "cell_type": "code",
      "source": [
        "print(\"hi\\\\This\\\"is\\'machine\\nlearning\\tusing\\bpython\\fin\\nenglish\\rhindi\")"
      ],
      "metadata": {
        "colab": {
          "base_uri": "https://localhost:8080/"
        },
        "id": "NPYPF-LJQXNH",
        "outputId": "e7eeaeb7-3925-4bec-8cc5-ae8909291ed1"
      },
      "execution_count": null,
      "outputs": [
        {
          "output_type": "stream",
          "name": "stdout",
          "text": [
            "hi\\This\"is'machine\n",
            "learning\tusing\bpython\fin\n",
            "english\rhindi\n"
          ]
        }
      ]
    },
    {
      "cell_type": "markdown",
      "source": [
        "[More Escape Sequence](https://www.scaler.com/topics/escape-sequence-in-python/) in Python"
      ],
      "metadata": {
        "id": "_UJLZurXQcKh"
      }
    }
  ]
}