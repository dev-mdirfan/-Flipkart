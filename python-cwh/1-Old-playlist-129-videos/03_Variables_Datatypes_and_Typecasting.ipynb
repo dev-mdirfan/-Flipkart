{
  "nbformat": 4,
  "nbformat_minor": 0,
  "metadata": {
    "colab": {
      "provenance": [],
      "authorship_tag": "ABX9TyNTeWrk3ZVRCh52w73LVvI/",
      "include_colab_link": true
    },
    "kernelspec": {
      "name": "python3",
      "display_name": "Python 3"
    },
    "language_info": {
      "name": "python"
    }
  },
  "cells": [
    {
      "cell_type": "markdown",
      "metadata": {
        "id": "view-in-github",
        "colab_type": "text"
      },
      "source": [
        "<a href=\"https://colab.research.google.com/github/dev-mdirfan/-Flipkart/blob/master/python-cwh/1-Old-playlist-129-videos/03_Variables_Datatypes_and_Typecasting.ipynb\" target=\"_parent\"><img src=\"https://colab.research.google.com/assets/colab-badge.svg\" alt=\"Open In Colab\"/></a>"
      ]
    },
    {
      "cell_type": "markdown",
      "source": [
        "# 3. Variables, datatypes and typecasting\n",
        "\n",
        "## Type Function :\n",
        "type(variable name) : It returns type of the variable"
      ],
      "metadata": {
        "id": "K0teagrgJvVt"
      }
    },
    {
      "cell_type": "code",
      "execution_count": null,
      "metadata": {
        "colab": {
          "base_uri": "https://localhost:8080/"
        },
        "id": "hjXHcEeqJY9K",
        "outputId": "246a4652-3d9d-4ea6-f3c8-a44185490fa6"
      },
      "outputs": [
        {
          "output_type": "stream",
          "name": "stdout",
          "text": [
            "<class 'str'>\n",
            "<class 'int'>\n",
            "<class 'float'>\n"
          ]
        }
      ],
      "source": [
        "var1 = \"Welcome\"\n",
        "var2 = \"To Delhi\"\n",
        "var3 = 18\n",
        "var4 = 22.7\n",
        "print(type(var2))\n",
        "print(type(var3))\n",
        "print(type(var4))"
      ]
    },
    {
      "cell_type": "markdown",
      "source": [
        "## Concatenation of String :\n",
        "\n",
        "- \"If two string are added called as concatenation\"\n",
        "- We can add strings\n",
        "- We can add string and number together with typecasting"
      ],
      "metadata": {
        "id": "Z9HOjiwPJ3jl"
      }
    },
    {
      "cell_type": "code",
      "source": [
        "print(var1 + var2)     # Concatenation\n",
        "\n",
        "print(var3 + var4)\n",
        "\n",
        "print(var2 + var3)     # Gives an Error"
      ],
      "metadata": {
        "colab": {
          "base_uri": "https://localhost:8080/",
          "height": 235
        },
        "id": "MqTv_aaxJ0ac",
        "outputId": "0ee416b3-d068-4679-b224-59c27b7cf9a5"
      },
      "execution_count": null,
      "outputs": [
        {
          "output_type": "stream",
          "name": "stdout",
          "text": [
            "WelcomeTo Delhi\n",
            "40.7\n"
          ]
        },
        {
          "output_type": "error",
          "ename": "TypeError",
          "evalue": "ignored",
          "traceback": [
            "\u001b[0;31m---------------------------------------------------------------------------\u001b[0m",
            "\u001b[0;31mTypeError\u001b[0m                                 Traceback (most recent call last)",
            "\u001b[0;32m<ipython-input-2-30ee631c945e>\u001b[0m in \u001b[0;36m<module>\u001b[0;34m\u001b[0m\n\u001b[1;32m      3\u001b[0m \u001b[0mprint\u001b[0m\u001b[0;34m(\u001b[0m\u001b[0mvar3\u001b[0m \u001b[0;34m+\u001b[0m \u001b[0mvar4\u001b[0m\u001b[0;34m)\u001b[0m\u001b[0;34m\u001b[0m\u001b[0;34m\u001b[0m\u001b[0m\n\u001b[1;32m      4\u001b[0m \u001b[0;34m\u001b[0m\u001b[0m\n\u001b[0;32m----> 5\u001b[0;31m \u001b[0mprint\u001b[0m\u001b[0;34m(\u001b[0m\u001b[0mvar2\u001b[0m \u001b[0;34m+\u001b[0m \u001b[0mvar3\u001b[0m\u001b[0;34m)\u001b[0m     \u001b[0;31m# Gives an Error\u001b[0m\u001b[0;34m\u001b[0m\u001b[0;34m\u001b[0m\u001b[0m\n\u001b[0m",
            "\u001b[0;31mTypeError\u001b[0m: can only concatenate str (not \"int\") to str"
          ]
        }
      ]
    },
    {
      "cell_type": "code",
      "source": [
        "print(var2 + str(var3))"
      ],
      "metadata": {
        "colab": {
          "base_uri": "https://localhost:8080/"
        },
        "id": "9Kz4NmW_J8N0",
        "outputId": "c376dff5-e361-4add-e3d0-978c7d5cda81"
      },
      "execution_count": null,
      "outputs": [
        {
          "output_type": "stream",
          "name": "stdout",
          "text": [
            "To Delhi18\n"
          ]
        }
      ]
    },
    {
      "cell_type": "markdown",
      "source": [
        "## Typecasting :\n",
        "\n",
        "- To convert string to integer use int() function\n",
        "  - str()\n",
        "  - int()\n",
        "  - float()\n",
        "  - list()\n",
        "  - dict()\n",
        "  - tuple()"
      ],
      "metadata": {
        "id": "C80C-FIaYSw6"
      }
    },
    {
      "cell_type": "code",
      "source": [
        "var5 = \"54\"\n",
        "var6 = \"32\"\n",
        "print(int(var5)+int(var6))"
      ],
      "metadata": {
        "colab": {
          "base_uri": "https://localhost:8080/"
        },
        "id": "yvOZrKyvYO72",
        "outputId": "7306dedf-8810-47c9-840a-9e131e3b8d89"
      },
      "execution_count": null,
      "outputs": [
        {
          "output_type": "stream",
          "name": "stdout",
          "text": [
            "86\n"
          ]
        }
      ]
    },
    {
      "cell_type": "markdown",
      "source": [
        "### To print many times string"
      ],
      "metadata": {
        "id": "sRXLjcNgYbZ8"
      }
    },
    {
      "cell_type": "code",
      "source": [
        "print(10*\"Hello Irfan\\n\")"
      ],
      "metadata": {
        "colab": {
          "base_uri": "https://localhost:8080/"
        },
        "id": "qLJn840VYcl9",
        "outputId": "edfa1ebd-ef04-42db-d1ac-95c23410cadf"
      },
      "execution_count": null,
      "outputs": [
        {
          "output_type": "stream",
          "name": "stdout",
          "text": [
            "Hello Irfan\n",
            "Hello Irfan\n",
            "Hello Irfan\n",
            "Hello Irfan\n",
            "Hello Irfan\n",
            "Hello Irfan\n",
            "Hello Irfan\n",
            "Hello Irfan\n",
            "Hello Irfan\n",
            "Hello Irfan\n",
            "\n"
          ]
        }
      ]
    },
    {
      "cell_type": "code",
      "source": [
        "# Tis will Multiply the number 100 times\n",
        "print(100*(int(var5)+int(var6)))"
      ],
      "metadata": {
        "colab": {
          "base_uri": "https://localhost:8080/"
        },
        "id": "Yh2XAM5UYkkM",
        "outputId": "9d63fa15-0d45-4d47-b6e0-59a4dc7f3ea4"
      },
      "execution_count": null,
      "outputs": [
        {
          "output_type": "stream",
          "name": "stdout",
          "text": [
            "8600\n"
          ]
        }
      ]
    },
    {
      "cell_type": "code",
      "source": [
        "# This will repeat the string 10 times\n",
        "print(10*str(int(var5)+int(var6)))"
      ],
      "metadata": {
        "colab": {
          "base_uri": "https://localhost:8080/"
        },
        "id": "aspQ6eXWYoa2",
        "outputId": "8ca2e350-1006-4720-891c-aa8e9f2ab5f9"
      },
      "execution_count": null,
      "outputs": [
        {
          "output_type": "stream",
          "name": "stdout",
          "text": [
            "86868686868686868686\n"
          ]
        }
      ]
    },
    {
      "cell_type": "markdown",
      "source": [
        "## Input Function :\n",
        "\n",
        "input() function is used to take input from user"
      ],
      "metadata": {
        "id": "cSk_gIRiYkNw"
      }
    },
    {
      "cell_type": "code",
      "source": [
        "print(\"Enter your number:\")\n",
        "var7 = input()                  # Default type of input() function is string\n",
        "print(\"You Entered:\",var7)\n",
        "# print(\"After 10 adding:\",var7 + 10)    # Error str and int can't added\n",
        "print(\"Correct way to add 10:\",int(var7)+10)"
      ],
      "metadata": {
        "colab": {
          "base_uri": "https://localhost:8080/"
        },
        "id": "ImJcg36BYwBz",
        "outputId": "06b6ec25-26a1-492e-bb38-42c932c0daf3"
      },
      "execution_count": null,
      "outputs": [
        {
          "output_type": "stream",
          "name": "stdout",
          "text": [
            "Enter your number:\n",
            "23\n",
            "You Entered: 23\n",
            "Correct way to add 10: 33\n"
          ]
        }
      ]
    },
    {
      "cell_type": "code",
      "source": [
        "# Another way to get input\n",
        "a = int(input(\"Enter a\\n\"))\n",
        "b = int(input(\"Enter b\\n\"))"
      ],
      "metadata": {
        "colab": {
          "base_uri": "https://localhost:8080/"
        },
        "id": "il_7zxzIY5rj",
        "outputId": "cc6c9d07-8ff5-4abb-d684-0d8ad3791c20"
      },
      "execution_count": null,
      "outputs": [
        {
          "name": "stdout",
          "output_type": "stream",
          "text": [
            "Enter a\n",
            "2\n",
            "Enter b\n",
            "3\n"
          ]
        }
      ]
    },
    {
      "cell_type": "markdown",
      "source": [
        "## Quiz 1:\n",
        "Write a program to add two numbers are taken by user"
      ],
      "metadata": {
        "id": "juVuq1upYf9e"
      }
    },
    {
      "cell_type": "code",
      "source": [
        "n1 = input(\"Enter first number: \")\n",
        "n2 = input(\"Enter second number: \")\n",
        "print(\"Sum of these two numbers is:\",int(n1)+int(n2))"
      ],
      "metadata": {
        "colab": {
          "base_uri": "https://localhost:8080/"
        },
        "id": "ZzZevwDUZBRd",
        "outputId": "83975c8f-be72-4109-d5b7-bf0e342bef52"
      },
      "execution_count": null,
      "outputs": [
        {
          "output_type": "stream",
          "name": "stdout",
          "text": [
            "Enter first number: 12\n",
            "Enter second number: 13\n",
            "Sum of these two numbers is: 25\n"
          ]
        }
      ]
    }
  ]
}